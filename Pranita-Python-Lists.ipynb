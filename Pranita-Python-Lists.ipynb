{
 "cells": [
  {
   "cell_type": "markdown",
   "metadata": {},
   "source": [
    "# Lists\n",
    "A list is a collection which is ordered and changeable. In Python lists are written with square brackets.\n"
   ]
  },
  {
   "cell_type": "markdown",
   "metadata": {},
   "source": [
    "Create a List:"
   ]
  },
  {
   "cell_type": "code",
   "execution_count": null,
   "metadata": {},
   "outputs": [],
   "source": [
    "list = [\"ant\", \"bug\", \"fly\"]\n",
    "print(list)"
   ]
  },
  {
   "cell_type": "markdown",
   "metadata": {},
   "source": [
    "### Access Items\n",
    "we can access the list items by referring to the index number."
   ]
  },
  {
   "cell_type": "code",
   "execution_count": null,
   "metadata": {},
   "outputs": [],
   "source": [
    "list = [\"ant\", \"bug\", \"fly\"]\n",
    "print(list[1])"
   ]
  },
  {
   "cell_type": "markdown",
   "metadata": {},
   "source": [
    "### Negative Indexing\n",
    "Negative indexing means beginning from the end, -1 refers to the last item, -2 refers to the second last item etc.\n",
    "\n",
    "Eg: Print the last item of the list:"
   ]
  },
  {
   "cell_type": "code",
   "execution_count": null,
   "metadata": {
    "scrolled": true
   },
   "outputs": [],
   "source": [
    "list = [\"ant\", \"bug\", \"fly\"]\n",
    "print(list[-1])"
   ]
  },
  {
   "cell_type": "markdown",
   "metadata": {},
   "source": [
    "### Range of Indexes\n",
    "We can specify a range of indexes by specifying where to start and where to end the range.\n",
    "When specifying a range, the return value will be a new list with the specified items.\n",
    "\n",
    "Eg: Return the third, fourth, and fifth item:"
   ]
  },
  {
   "cell_type": "code",
   "execution_count": null,
   "metadata": {},
   "outputs": [],
   "source": [
    "list = [\"ant\",\"bee\",\"bot\",\"bug\", \"fly\",\"ked\"]\n",
    "print(list[2:5])  #The search will start at index 2 (included) and end at index 5 (not included).\n",
    "                  #Remember that the first item has index 0."
   ]
  },
  {
   "cell_type": "markdown",
   "metadata": {},
   "source": [
    "This example returns the items from the beginning to \"bot\":"
   ]
  },
  {
   "cell_type": "code",
   "execution_count": null,
   "metadata": {},
   "outputs": [],
   "source": [
    "list = [\"ant\",\"bee\",\"bot\",\"bug\", \"fly\",\"ked\"]\n",
    "print(list[:3])  #By leaving out the start value, the range will start at the first item."
   ]
  },
  {
   "cell_type": "markdown",
   "metadata": {},
   "source": [
    "This example returns the items from \"bee\" and to the end :"
   ]
  },
  {
   "cell_type": "code",
   "execution_count": null,
   "metadata": {},
   "outputs": [],
   "source": [
    "list = [\"ant\",\"bee\",\"bot\",\"bug\", \"fly\",\"ked\"]\n",
    "print(list[1:])"
   ]
  },
  {
   "cell_type": "markdown",
   "metadata": {},
   "source": [
    "### Range of Negative Indexes\n",
    "Specify negative indexes if you want to start the search from the end of the list.\n",
    "\n",
    "This example returns the items from index -4 (included) to index -1 (excluded)"
   ]
  },
  {
   "cell_type": "code",
   "execution_count": null,
   "metadata": {},
   "outputs": [],
   "source": [
    "list = [\"ant\",\"bee\",\"bot\",\"bug\", \"fly\",\"ked\"]\n",
    "print(list[-4:-1])"
   ]
  },
  {
   "cell_type": "markdown",
   "metadata": {},
   "source": [
    "### Change Item Value\n",
    "To change the value of a specific item, refer to the index number.\n",
    "\n",
    "Eg:Change the second item"
   ]
  },
  {
   "cell_type": "code",
   "execution_count": null,
   "metadata": {},
   "outputs": [],
   "source": [
    "list = [\"ant\",\"bee\",\"bot\",\"bug\", \"fly\",\"ked\"]\n",
    "list[1]=\"beetle\"\n",
    "print(list)"
   ]
  },
  {
   "cell_type": "markdown",
   "metadata": {},
   "source": [
    "### Remove Item\n",
    "There are several methods to remove items from a list.\n",
    "remove(), pop(), del(), clear() methods are used to remove the items.\n",
    "\n",
    "The remove() method removes the specified item:"
   ]
  },
  {
   "cell_type": "code",
   "execution_count": null,
   "metadata": {},
   "outputs": [],
   "source": [
    "list = [\"ant\", \"bug\", \"fly\"]\n",
    "list.remove(\"bug\")\n",
    "print(list)"
   ]
  },
  {
   "cell_type": "markdown",
   "metadata": {},
   "source": [
    "The pop() method removes the specified index, (or the last item if index is not specified):"
   ]
  },
  {
   "cell_type": "code",
   "execution_count": null,
   "metadata": {},
   "outputs": [],
   "source": [
    "list = [\"ant\", \"bug\", \"fly\"]\n",
    "list.pop()\n",
    "print(list)"
   ]
  },
  {
   "cell_type": "markdown",
   "metadata": {},
   "source": [
    "The del keyword removes the specified index:"
   ]
  },
  {
   "cell_type": "code",
   "execution_count": null,
   "metadata": {},
   "outputs": [],
   "source": [
    "list = [\"ant\", \"bug\", \"fly\"]\n",
    "del list[2]\n",
    "print(list)"
   ]
  },
  {
   "cell_type": "markdown",
   "metadata": {},
   "source": [
    "The del keyword can also delete the list completely:"
   ]
  },
  {
   "cell_type": "code",
   "execution_count": null,
   "metadata": {},
   "outputs": [],
   "source": [
    "list = [\"ant\", \"bug\", \"fly\"]\n",
    "del list"
   ]
  },
  {
   "cell_type": "markdown",
   "metadata": {},
   "source": [
    "The clear() method empties the list:"
   ]
  },
  {
   "cell_type": "code",
   "execution_count": null,
   "metadata": {},
   "outputs": [],
   "source": [
    "list = [\"ant\", \"bug\", \"fly\"]\n",
    "list.clear()\n",
    "print(list)"
   ]
  },
  {
   "cell_type": "markdown",
   "metadata": {},
   "source": [
    "### Copy a List\n",
    "one list is copied to another list by using built-in List method copy()."
   ]
  },
  {
   "cell_type": "code",
   "execution_count": null,
   "metadata": {},
   "outputs": [],
   "source": [
    "list = [\"ant\", \"bug\", \"fly\"]\n",
    "newlist=list.copy()\n",
    "print(newlist)"
   ]
  },
  {
   "cell_type": "markdown",
   "metadata": {},
   "source": [
    "### Join Two Lists\n",
    "\n",
    "One of the easiest ways are by using the + operator.\n",
    "\n",
    "Join two list:"
   ]
  },
  {
   "cell_type": "code",
   "execution_count": null,
   "metadata": {},
   "outputs": [],
   "source": [
    "list1 = [\"a\", \"b\" , \"c\"]\n",
    "list2 = [1, 2, 3]\n",
    "\n",
    "list3 = list1 + list2\n",
    "print(list3)"
   ]
  },
  {
   "cell_type": "markdown",
   "metadata": {},
   "source": [
    "Another way to join two lists are by appending all the items from list2 into list1, one by one.\n",
    "\n",
    "\n",
    "Append list2 into list1:\n"
   ]
  },
  {
   "cell_type": "code",
   "execution_count": null,
   "metadata": {},
   "outputs": [],
   "source": [
    "list1 = [\"a\", \"b\" , \"c\"]\n",
    "list2 = [1, 2, 3]\n",
    "\n",
    "for x in list2:\n",
    "  list1.append(x)\n",
    "\n",
    "print(list1)"
   ]
  },
  {
   "cell_type": "markdown",
   "metadata": {},
   "source": [
    " We can use the extend() method, which purpose is to add elements from one list to another list.\n",
    " \n",
    "Eg: Using the extend() method to add list2 at the end of list1"
   ]
  },
  {
   "cell_type": "code",
   "execution_count": null,
   "metadata": {},
   "outputs": [],
   "source": [
    "list1 = [\"a\", \"b\" , \"c\"]\n",
    "list2 = [1, 2, 3]\n",
    "\n",
    "list1.extend(list2)\n",
    "print(list1)"
   ]
  },
  {
   "cell_type": "code",
   "execution_count": null,
   "metadata": {},
   "outputs": [],
   "source": []
  }
 ],
 "metadata": {
  "kernelspec": {
   "display_name": "Python 3",
   "language": "python",
   "name": "python3"
  },
  "language_info": {
   "codemirror_mode": {
    "name": "ipython",
    "version": 3
   },
   "file_extension": ".py",
   "mimetype": "text/x-python",
   "name": "python",
   "nbconvert_exporter": "python",
   "pygments_lexer": "ipython3",
   "version": "3.7.3"
  }
 },
 "nbformat": 4,
 "nbformat_minor": 4
}
